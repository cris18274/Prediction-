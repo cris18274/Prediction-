import pandas as pd
import numpy as np
import matplotlib.pyplot as ptl
import seaborn as sns

#import Data#

car_df = pd.read_csv('Car_Purchasing_Data.csv', encoding = 'ISO-8859-1')
car_df
car_df.head(20)
car_df.tail(10)

#Data visualization#


sns.pairplot(car_df)

#Create testing and training Database/Data cleaning#

X = car_df.drop(['Customer Name', 'Customer e-mail', 'Country', 'Car Purchase Amount']), axis = 1)
X
y = car_df['Car Purchase Amount']
y
X.shape
y.shape

from sklearn.preprocessing import MinMaxScaler

scaler = MinMaxScaler()
X_scaled = scaler.fit_transform(X)
X_scaled.shape
scaler.data_max_
scaler.data_min_
y = y.values.reshape(-1,1)
y.shape
y_scaled = scaler.fit_transform(y)
y_scaled

#training the model#

X_scaled.shape
from sklearn.model_selection import train_test_split
X_train, X_test, y_test = train_test_split(X_scaled, y_scaled, test_size = 0.25)
X_train.shape
X_test.shape

import tensorflow.keras
from keras.models import Sequential 
from keras.layers import Dense

model = Sequential()
model.add(Dense(5, input_dim = 5, activation = 'relu')) 
model.add(Dense(5, activation = 'relu'))
model.add(Dense(1, activation = 'linear'))
model.summary()
model.compile(optimizer = 'adam', loss = 'mean_squared_error')
epochs_hist = model.fit(X_train, y_train, epochs= 100 , batch_size = 50, verbose = 1, validation_split = 0.2)

#Evaluating model#

epochs_hist.history.key()
plt.plot(epochs_his.history['loss'])
plt.plot(epochs_his.history['val_loss'])
plt.title('Model Loss Progress During Training')
plt.ylabel('Training and Validation Loss')
plt.xlabel('Epoch number')
plt.legehd(['Training Loss', 'validation Loss'])

# Gender, Age, Annual Salary, Credit Card Debt, Net worth
X.text = np.array([[1, 50, 50000, 10000, 600000]])
y_predict = model.predict(X_test)
print ('Expected Purchase Amount', y_predict)












